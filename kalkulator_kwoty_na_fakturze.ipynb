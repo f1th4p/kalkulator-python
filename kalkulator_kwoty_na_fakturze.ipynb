{
  "nbformat": 4,
  "nbformat_minor": 0,
  "metadata": {
    "colab": {
      "provenance": [],
      "cell_execution_strategy": "setup",
      "authorship_tag": "ABX9TyOSaDEvzg5mX9CbRFpyMqSW",
      "include_colab_link": true
    },
    "kernelspec": {
      "name": "python3",
      "display_name": "Python 3"
    },
    "language_info": {
      "name": "python"
    },
    "widgets": {
      "application/vnd.jupyter.widget-state+json": {
        "52b045ebe9ca4c6a84d1e5828208dcf5": {
          "model_module": "@jupyter-widgets/controls",
          "model_name": "DropdownModel",
          "model_module_version": "1.5.0",
          "state": {
            "_dom_classes": [],
            "_model_module": "@jupyter-widgets/controls",
            "_model_module_version": "1.5.0",
            "_model_name": "DropdownModel",
            "_options_labels": [
              "ZUS bez chorobowego",
              "ZUS z chorobowym"
            ],
            "_view_count": null,
            "_view_module": "@jupyter-widgets/controls",
            "_view_module_version": "1.5.0",
            "_view_name": "DropdownView",
            "description": "Wybierz ZUS:",
            "description_tooltip": null,
            "disabled": false,
            "index": 0,
            "layout": "IPY_MODEL_49d1dd78005f47989dc1bd82c68df554",
            "style": "IPY_MODEL_f054a9f1c07e4f65aae69187dd215fb9"
          }
        },
        "49d1dd78005f47989dc1bd82c68df554": {
          "model_module": "@jupyter-widgets/base",
          "model_name": "LayoutModel",
          "model_module_version": "1.2.0",
          "state": {
            "_model_module": "@jupyter-widgets/base",
            "_model_module_version": "1.2.0",
            "_model_name": "LayoutModel",
            "_view_count": null,
            "_view_module": "@jupyter-widgets/base",
            "_view_module_version": "1.2.0",
            "_view_name": "LayoutView",
            "align_content": null,
            "align_items": null,
            "align_self": null,
            "border": null,
            "bottom": null,
            "display": null,
            "flex": null,
            "flex_flow": null,
            "grid_area": null,
            "grid_auto_columns": null,
            "grid_auto_flow": null,
            "grid_auto_rows": null,
            "grid_column": null,
            "grid_gap": null,
            "grid_row": null,
            "grid_template_areas": null,
            "grid_template_columns": null,
            "grid_template_rows": null,
            "height": null,
            "justify_content": null,
            "justify_items": null,
            "left": null,
            "margin": null,
            "max_height": null,
            "max_width": null,
            "min_height": null,
            "min_width": null,
            "object_fit": null,
            "object_position": null,
            "order": null,
            "overflow": null,
            "overflow_x": null,
            "overflow_y": null,
            "padding": null,
            "right": null,
            "top": null,
            "visibility": null,
            "width": null
          }
        },
        "f054a9f1c07e4f65aae69187dd215fb9": {
          "model_module": "@jupyter-widgets/controls",
          "model_name": "DescriptionStyleModel",
          "model_module_version": "1.5.0",
          "state": {
            "_model_module": "@jupyter-widgets/controls",
            "_model_module_version": "1.5.0",
            "_model_name": "DescriptionStyleModel",
            "_view_count": null,
            "_view_module": "@jupyter-widgets/base",
            "_view_module_version": "1.2.0",
            "_view_name": "StyleView",
            "description_width": ""
          }
        },
        "b9c4b0b0aa414a9d9fdeccfac9974f50": {
          "model_module": "@jupyter-widgets/controls",
          "model_name": "FloatTextModel",
          "model_module_version": "1.5.0",
          "state": {
            "_dom_classes": [],
            "_model_module": "@jupyter-widgets/controls",
            "_model_module_version": "1.5.0",
            "_model_name": "FloatTextModel",
            "_view_count": null,
            "_view_module": "@jupyter-widgets/controls",
            "_view_module_version": "1.5.0",
            "_view_name": "FloatTextView",
            "continuous_update": false,
            "description": "Koszty:",
            "description_tooltip": null,
            "disabled": false,
            "layout": "IPY_MODEL_21ffc42c20bc4a72a2a7b80ff5746732",
            "step": 1,
            "style": "IPY_MODEL_56d0e186665e41588541b9c50f35fcbd",
            "value": 263.22
          }
        },
        "21ffc42c20bc4a72a2a7b80ff5746732": {
          "model_module": "@jupyter-widgets/base",
          "model_name": "LayoutModel",
          "model_module_version": "1.2.0",
          "state": {
            "_model_module": "@jupyter-widgets/base",
            "_model_module_version": "1.2.0",
            "_model_name": "LayoutModel",
            "_view_count": null,
            "_view_module": "@jupyter-widgets/base",
            "_view_module_version": "1.2.0",
            "_view_name": "LayoutView",
            "align_content": null,
            "align_items": null,
            "align_self": null,
            "border": null,
            "bottom": null,
            "display": null,
            "flex": null,
            "flex_flow": null,
            "grid_area": null,
            "grid_auto_columns": null,
            "grid_auto_flow": null,
            "grid_auto_rows": null,
            "grid_column": null,
            "grid_gap": null,
            "grid_row": null,
            "grid_template_areas": null,
            "grid_template_columns": null,
            "grid_template_rows": null,
            "height": null,
            "justify_content": null,
            "justify_items": null,
            "left": null,
            "margin": null,
            "max_height": null,
            "max_width": null,
            "min_height": null,
            "min_width": null,
            "object_fit": null,
            "object_position": null,
            "order": null,
            "overflow": null,
            "overflow_x": null,
            "overflow_y": null,
            "padding": null,
            "right": null,
            "top": null,
            "visibility": null,
            "width": null
          }
        },
        "56d0e186665e41588541b9c50f35fcbd": {
          "model_module": "@jupyter-widgets/controls",
          "model_name": "DescriptionStyleModel",
          "model_module_version": "1.5.0",
          "state": {
            "_model_module": "@jupyter-widgets/controls",
            "_model_module_version": "1.5.0",
            "_model_name": "DescriptionStyleModel",
            "_view_count": null,
            "_view_module": "@jupyter-widgets/base",
            "_view_module_version": "1.2.0",
            "_view_name": "StyleView",
            "description_width": ""
          }
        },
        "f53a427b9b8f4881b83141d27ad99cad": {
          "model_module": "@jupyter-widgets/controls",
          "model_name": "FloatTextModel",
          "model_module_version": "1.5.0",
          "state": {
            "_dom_classes": [],
            "_model_module": "@jupyter-widgets/controls",
            "_model_module_version": "1.5.0",
            "_model_name": "FloatTextModel",
            "_view_count": null,
            "_view_module": "@jupyter-widgets/controls",
            "_view_module_version": "1.5.0",
            "_view_name": "FloatTextView",
            "continuous_update": false,
            "description": "Kwota na rękę:",
            "description_tooltip": null,
            "disabled": false,
            "layout": "IPY_MODEL_1ecee2c1023c492b9bec65966ceadd7c",
            "step": 10,
            "style": "IPY_MODEL_4df900bb08864fa091e00eba8e471fbc",
            "value": 6350
          }
        },
        "1ecee2c1023c492b9bec65966ceadd7c": {
          "model_module": "@jupyter-widgets/base",
          "model_name": "LayoutModel",
          "model_module_version": "1.2.0",
          "state": {
            "_model_module": "@jupyter-widgets/base",
            "_model_module_version": "1.2.0",
            "_model_name": "LayoutModel",
            "_view_count": null,
            "_view_module": "@jupyter-widgets/base",
            "_view_module_version": "1.2.0",
            "_view_name": "LayoutView",
            "align_content": null,
            "align_items": null,
            "align_self": null,
            "border": null,
            "bottom": null,
            "display": null,
            "flex": null,
            "flex_flow": null,
            "grid_area": null,
            "grid_auto_columns": null,
            "grid_auto_flow": null,
            "grid_auto_rows": null,
            "grid_column": null,
            "grid_gap": null,
            "grid_row": null,
            "grid_template_areas": null,
            "grid_template_columns": null,
            "grid_template_rows": null,
            "height": null,
            "justify_content": null,
            "justify_items": null,
            "left": null,
            "margin": null,
            "max_height": null,
            "max_width": null,
            "min_height": null,
            "min_width": null,
            "object_fit": null,
            "object_position": null,
            "order": null,
            "overflow": null,
            "overflow_x": null,
            "overflow_y": null,
            "padding": null,
            "right": null,
            "top": null,
            "visibility": null,
            "width": null
          }
        },
        "4df900bb08864fa091e00eba8e471fbc": {
          "model_module": "@jupyter-widgets/controls",
          "model_name": "DescriptionStyleModel",
          "model_module_version": "1.5.0",
          "state": {
            "_model_module": "@jupyter-widgets/controls",
            "_model_module_version": "1.5.0",
            "_model_name": "DescriptionStyleModel",
            "_view_count": null,
            "_view_module": "@jupyter-widgets/base",
            "_view_module_version": "1.2.0",
            "_view_name": "StyleView",
            "description_width": ""
          }
        }
      }
    }
  },
  "cells": [
    {
      "cell_type": "markdown",
      "metadata": {
        "id": "view-in-github",
        "colab_type": "text"
      },
      "source": [
        "<a href=\"https://colab.research.google.com/github/f1th4p/kalkulator-python/blob/main/kalkulator_kwoty_na_fakturze.ipynb\" target=\"_parent\"><img src=\"https://colab.research.google.com/assets/colab-badge.svg\" alt=\"Open In Colab\"/></a>"
      ]
    },
    {
      "cell_type": "code",
      "execution_count": 3,
      "metadata": {
        "colab": {
          "base_uri": "https://localhost:8080/",
          "height": 126,
          "referenced_widgets": [
            "52b045ebe9ca4c6a84d1e5828208dcf5",
            "49d1dd78005f47989dc1bd82c68df554",
            "f054a9f1c07e4f65aae69187dd215fb9",
            "b9c4b0b0aa414a9d9fdeccfac9974f50",
            "21ffc42c20bc4a72a2a7b80ff5746732",
            "56d0e186665e41588541b9c50f35fcbd",
            "f53a427b9b8f4881b83141d27ad99cad",
            "1ecee2c1023c492b9bec65966ceadd7c",
            "4df900bb08864fa091e00eba8e471fbc"
          ]
        },
        "id": "ty6E3P6tacAx",
        "outputId": "4afd3694-c76b-40a8-982b-1e8e7179eb5c",
        "cellView": "form"
      },
      "outputs": [
        {
          "output_type": "stream",
          "name": "stdout",
          "text": [
            "Pakiety zostały zainstalowane.\n"
          ]
        },
        {
          "output_type": "display_data",
          "data": {
            "text/plain": [
              "Dropdown(description='Wybierz ZUS:', options=('ZUS bez chorobowego', 'ZUS z chorobowym'), value='ZUS bez choro…"
            ],
            "application/vnd.jupyter.widget-view+json": {
              "version_major": 2,
              "version_minor": 0,
              "model_id": "52b045ebe9ca4c6a84d1e5828208dcf5"
            }
          },
          "metadata": {}
        },
        {
          "output_type": "display_data",
          "data": {
            "text/plain": [
              "FloatText(value=263.22, description='Koszty:', step=1.0)"
            ],
            "application/vnd.jupyter.widget-view+json": {
              "version_major": 2,
              "version_minor": 0,
              "model_id": "b9c4b0b0aa414a9d9fdeccfac9974f50"
            }
          },
          "metadata": {}
        },
        {
          "output_type": "display_data",
          "data": {
            "text/plain": [
              "FloatText(value=6350.0, description='Kwota na rękę:', step=10.0)"
            ],
            "application/vnd.jupyter.widget-view+json": {
              "version_major": 2,
              "version_minor": 0,
              "model_id": "f53a427b9b8f4881b83141d27ad99cad"
            }
          },
          "metadata": {}
        }
      ],
      "source": [
        "# @title\n",
        "# Automatyczna instalacja pakietów\n",
        "import sys\n",
        "import subprocess\n",
        "\n",
        "# Lista pakietów do zainstalowania\n",
        "packages = ['scipy', 'numpy']\n",
        "\n",
        "for package in packages:\n",
        "    subprocess.check_call([sys.executable, \"-m\", \"pip\", \"install\", package])\n",
        "\n",
        "# Potwierdzenie, że pakiety zostały zainstalowane\n",
        "print(\"Pakiety zostały zainstalowane.\")\n",
        "\n",
        "from scipy.optimize import brentq\n",
        "import ipywidgets as widgets\n",
        "from IPython.display import display\n",
        "\n",
        "def calculate_net_old(P, C, ZUS, target_net=6350.00, tax_rate=0.12, tax_deduction=300, health_rate=0.09):\n",
        "    \"\"\"\n",
        "    Uproszczony model obliczeń (model z zeszłego roku):\n",
        "\n",
        "      Przychód: P\n",
        "      Koszty: C\n",
        "      Społeczne: ZUS\n",
        "\n",
        "      Dochód (podstawa) = P - C - ZUS\n",
        "      Podatek = 0.12 * (P - C - ZUS) - 300\n",
        "      Zdrowotna = 0.09 * (P - C - ZUS)\n",
        "      Na rękę = (P - C - ZUS) - Podatek - Zdrowotna\n",
        "\n",
        "    Funkcja zwraca różnicę między uzyskanym wynagrodzeniem netto a docelową kwotą (target_net).\n",
        "    \"\"\"\n",
        "    base = P - C - ZUS\n",
        "    tax = tax_rate * base - tax_deduction\n",
        "    health = health_rate * base\n",
        "    net = base - tax - health\n",
        "    return net - target_net\n",
        "\n",
        "# Parametry do wyboru:\n",
        "target_net_default = 6350.00  # Domyślna kwota \"na rękę\"\n",
        "C_example_default = 263.22    # Domyślne koszty\n",
        "P_min, P_max = 9000, 10000  # Zakres poszukiwań przychodu\n",
        "\n",
        "# Wybór ZUS\n",
        "ZUS_options = {\n",
        "    \"ZUS bez chorobowego\": 1646.47,\n",
        "    \"ZUS z chorobowym\": 1773.96,\n",
        "}\n",
        "\n",
        "# Funkcja obliczająca przychód w zależności od wyboru ZUS\n",
        "def calculate_income(ZUS_type, C_value, target_net_value):\n",
        "    ZUS_value = ZUS_options[ZUS_type]\n",
        "    P_solution = brentq(calculate_net_old, P_min, P_max, args=(C_value, ZUS_value, target_net_value))\n",
        "    output_text = f\"Rozwiązanie: Przychód = {P_solution:.2f} zł (ZUS: {ZUS_type}, Koszty: {C_value:.2f}, Kwota na rękę: {target_net_value:.2f})\"\n",
        "    print(output_text)\n",
        "\n",
        "# Widget wyboru ZUS\n",
        "ZUS_selector = widgets.Dropdown(\n",
        "    options=ZUS_options.keys(),\n",
        "    value=\"ZUS bez chorobowego\",\n",
        "    description='Wybierz ZUS:',\n",
        ")\n",
        "\n",
        "# Widget dla kosztów (z domyślną wartością)\n",
        "C_selector = widgets.FloatText(\n",
        "    value=C_example_default,\n",
        "    description='Koszty:',\n",
        "    step=1.0,\n",
        "    min=0,\n",
        "    max=5000\n",
        ")\n",
        "\n",
        "# Widget dla kwoty na rękę (z domyślną wartością)\n",
        "target_net_selector = widgets.FloatText(\n",
        "    value=target_net_default,\n",
        "    description='Kwota na rękę:',\n",
        "    step=10.0,\n",
        "    min=0,\n",
        "    max=20000\n",
        ")\n",
        "\n",
        "# Funkcja wywoływana przy każdej zmianie wartości w widżetach\n",
        "def on_change(change):\n",
        "    # Zaktualizowanie obliczeń przy każdej zmianie wartości\n",
        "    calculate_income(ZUS_selector.value, C_selector.value, target_net_selector.value)\n",
        "\n",
        "# Dodanie obserwatora dla każdego widżetu\n",
        "ZUS_selector.observe(on_change, names='value')\n",
        "C_selector.observe(on_change, names='value')\n",
        "target_net_selector.observe(on_change, names='value')\n",
        "\n",
        "# Wyświetlanie widżetów\n",
        "display(ZUS_selector, C_selector, target_net_selector)"
      ]
    }
  ]
}