{
  "nbformat": 4,
  "nbformat_minor": 0,
  "metadata": {
    "colab": {
      "provenance": [],
      "cell_execution_strategy": "setup",
      "authorship_tag": "ABX9TyPipz2BIRWO7CvO8je1kTp7",
      "include_colab_link": true
    },
    "kernelspec": {
      "name": "python3",
      "display_name": "Python 3"
    },
    "language_info": {
      "name": "python"
    }
  },
  "cells": [
    {
      "cell_type": "markdown",
      "metadata": {
        "id": "view-in-github",
        "colab_type": "text"
      },
      "source": [
        "<a href=\"https://colab.research.google.com/github/f1th4p/kalkulator-python/blob/main/kalkulator_kwoty_na_fakturze.ipynb\" target=\"_parent\"><img src=\"https://colab.research.google.com/assets/colab-badge.svg\" alt=\"Open In Colab\"/></a>"
      ]
    },
    {
      "cell_type": "code",
      "execution_count": 5,
      "metadata": {
        "id": "ty6E3P6tacAx"
      },
      "outputs": [],
      "source": [
        "# @title\n",
        "# Automatyczna instalacja pakietów\n",
        "\n",
        "%%capture\n",
        "import sys\n",
        "import subprocess\n",
        "\n",
        "# Lista pakietów do zainstalowania\n",
        "packages = ['scipy', 'numpy']\n",
        "\n",
        "for package in packages:\n",
        "    subprocess.check_call([sys.executable, \"-m\", \"pip\", \"install\", package])\n",
        "\n",
        "# Potwierdzenie, że pakiety zostały zainstalowane\n",
        "print(\"Pakiety zostały zainstalowane.\")"
      ]
    },
    {
      "cell_type": "code",
      "source": [
        "from scipy.optimize import brentq\n",
        "import ipywidgets as widgets\n",
        "from IPython.display import display\n",
        "\n",
        "def calculate_net_old(P, C, ZUS, target_net=6350.00, tax_rate=0.12, tax_deduction=300, health_rate=0.09):\n",
        "    \"\"\"\n",
        "    Uproszczony model obliczeń (model z zeszłego roku):\n",
        "\n",
        "      Przychód: P\n",
        "      Koszty: C\n",
        "      Społeczne: ZUS\n",
        "\n",
        "      Dochód (podstawa) = P - C - ZUS\n",
        "      Podatek = 0.12 * (P - C - ZUS) - 300\n",
        "      Zdrowotna = 0.09 * (P - C - ZUS)\n",
        "      Na rękę = (P - C - ZUS) - Podatek - Zdrowotna\n",
        "\n",
        "    Funkcja zwraca różnicę między uzyskanym wynagrodzeniem netto a docelową kwotą (target_net).\n",
        "    \"\"\"\n",
        "    base = P - C - ZUS\n",
        "    tax = tax_rate * base - tax_deduction\n",
        "    health = health_rate * base\n",
        "    net = base - tax - health\n",
        "    return net - target_net\n",
        "\n",
        "# Parametry do wyboru:\n",
        "target_net_default = 6350.00  # Domyślna kwota \"na rękę\"\n",
        "C_example_default = 263.22    # Domyślne koszty\n",
        "P_min, P_max = 9000, 10000  # Zakres poszukiwań przychodu\n",
        "\n",
        "# Wybór ZUS\n",
        "ZUS_options = {\n",
        "    \"ZUS bez chorobowego\": 1646.47,\n",
        "    \"ZUS z chorobowym\": 1773.96,\n",
        "}\n",
        "\n",
        "# Funkcja obliczająca przychód w zależności od wyboru ZUS\n",
        "def calculate_income(ZUS_type, C_value, target_net_value):\n",
        "    ZUS_value = ZUS_options[ZUS_type]\n",
        "    P_solution = brentq(calculate_net_old, P_min, P_max, args=(C_value, ZUS_value, target_net_value))\n",
        "    output_text = f\"Rozwiązanie: Przychód = {P_solution:.2f} zł (ZUS: {ZUS_type}, Koszty: {C_value:.2f}, Kwota na rękę: {target_net_value:.2f})\"\n",
        "    print(output_text)\n",
        "\n",
        "# Widget wyboru ZUS\n",
        "ZUS_selector = widgets.Dropdown(\n",
        "    options=ZUS_options.keys(),\n",
        "    value=\"ZUS bez chorobowego\",\n",
        "    description='Wybierz ZUS:',\n",
        ")\n",
        "\n",
        "# Widget dla kosztów (z domyślną wartością)\n",
        "C_selector = widgets.FloatText(\n",
        "    value=C_example_default,\n",
        "    description='Koszty:',\n",
        "    step=1.0,\n",
        "    min=0,\n",
        "    max=5000\n",
        ")\n",
        "\n",
        "# Widget dla kwoty na rękę (z domyślną wartością)\n",
        "target_net_selector = widgets.FloatText(\n",
        "    value=target_net_default,\n",
        "    description='Kwota na rękę:',\n",
        "    step=10.0,\n",
        "    min=0,\n",
        "    max=20000\n",
        ")\n",
        "\n",
        "# Funkcja wywoływana przy każdej zmianie wartości w widżetach\n",
        "def on_change(change):\n",
        "    # Zaktualizowanie obliczeń przy każdej zmianie wartości\n",
        "    calculate_income(ZUS_selector.value, C_selector.value, target_net_selector.value)\n",
        "\n",
        "# Dodanie obserwatora dla każdego widżetu\n",
        "ZUS_selector.observe(on_change, names='value')\n",
        "C_selector.observe(on_change, names='value')\n",
        "target_net_selector.observe(on_change, names='value')\n",
        "\n",
        "# Wyświetlanie widżetów\n",
        "display(ZUS_selector, C_selector, target_net_selector)"
      ],
      "metadata": {
        "id": "swzNxYzAmHMe"
      },
      "execution_count": null,
      "outputs": []
    }
  ]
}