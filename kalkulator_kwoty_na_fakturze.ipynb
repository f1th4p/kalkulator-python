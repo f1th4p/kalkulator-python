{
  "nbformat": 4,
  "nbformat_minor": 0,
  "metadata": {
    "colab": {
      "provenance": [],
      "authorship_tag": "ABX9TyNl7hYd4KCqKZNJaAAUt55F",
      "include_colab_link": true
    },
    "kernelspec": {
      "name": "python3",
      "display_name": "Python 3"
    },
    "language_info": {
      "name": "python"
    },
    "widgets": {
      "application/vnd.jupyter.widget-state+json": {
        "e3ffc85e0b4144f480288a236184ce11": {
          "model_module": "@jupyter-widgets/controls",
          "model_name": "DropdownModel",
          "model_module_version": "1.5.0",
          "state": {
            "_dom_classes": [],
            "_model_module": "@jupyter-widgets/controls",
            "_model_module_version": "1.5.0",
            "_model_name": "DropdownModel",
            "_options_labels": [
              "ZUS bez chorobowego",
              "ZUS z chorobowym"
            ],
            "_view_count": null,
            "_view_module": "@jupyter-widgets/controls",
            "_view_module_version": "1.5.0",
            "_view_name": "DropdownView",
            "description": "Wybierz ZUS:",
            "description_tooltip": null,
            "disabled": false,
            "index": 0,
            "layout": "IPY_MODEL_bb6d626dabc9463490857f883d72114a",
            "style": "IPY_MODEL_876b37a587f74d6691d40dd3e9751dbc"
          }
        },
        "bb6d626dabc9463490857f883d72114a": {
          "model_module": "@jupyter-widgets/base",
          "model_name": "LayoutModel",
          "model_module_version": "1.2.0",
          "state": {
            "_model_module": "@jupyter-widgets/base",
            "_model_module_version": "1.2.0",
            "_model_name": "LayoutModel",
            "_view_count": null,
            "_view_module": "@jupyter-widgets/base",
            "_view_module_version": "1.2.0",
            "_view_name": "LayoutView",
            "align_content": null,
            "align_items": null,
            "align_self": null,
            "border": null,
            "bottom": null,
            "display": null,
            "flex": null,
            "flex_flow": null,
            "grid_area": null,
            "grid_auto_columns": null,
            "grid_auto_flow": null,
            "grid_auto_rows": null,
            "grid_column": null,
            "grid_gap": null,
            "grid_row": null,
            "grid_template_areas": null,
            "grid_template_columns": null,
            "grid_template_rows": null,
            "height": null,
            "justify_content": null,
            "justify_items": null,
            "left": null,
            "margin": null,
            "max_height": null,
            "max_width": null,
            "min_height": null,
            "min_width": null,
            "object_fit": null,
            "object_position": null,
            "order": null,
            "overflow": null,
            "overflow_x": null,
            "overflow_y": null,
            "padding": null,
            "right": null,
            "top": null,
            "visibility": null,
            "width": null
          }
        },
        "876b37a587f74d6691d40dd3e9751dbc": {
          "model_module": "@jupyter-widgets/controls",
          "model_name": "DescriptionStyleModel",
          "model_module_version": "1.5.0",
          "state": {
            "_model_module": "@jupyter-widgets/controls",
            "_model_module_version": "1.5.0",
            "_model_name": "DescriptionStyleModel",
            "_view_count": null,
            "_view_module": "@jupyter-widgets/base",
            "_view_module_version": "1.2.0",
            "_view_name": "StyleView",
            "description_width": ""
          }
        },
        "4887f4ad3e8647f09c049051d10e0ae4": {
          "model_module": "@jupyter-widgets/controls",
          "model_name": "FloatTextModel",
          "model_module_version": "1.5.0",
          "state": {
            "_dom_classes": [],
            "_model_module": "@jupyter-widgets/controls",
            "_model_module_version": "1.5.0",
            "_model_name": "FloatTextModel",
            "_view_count": null,
            "_view_module": "@jupyter-widgets/controls",
            "_view_module_version": "1.5.0",
            "_view_name": "FloatTextView",
            "continuous_update": false,
            "description": "Koszty:",
            "description_tooltip": null,
            "disabled": false,
            "layout": "IPY_MODEL_bd536d59b3a74c4fbe8ce3ddfd3b307b",
            "step": 1,
            "style": "IPY_MODEL_1f70586170dd458da8f4816d3ddd744b",
            "value": 0
          }
        },
        "bd536d59b3a74c4fbe8ce3ddfd3b307b": {
          "model_module": "@jupyter-widgets/base",
          "model_name": "LayoutModel",
          "model_module_version": "1.2.0",
          "state": {
            "_model_module": "@jupyter-widgets/base",
            "_model_module_version": "1.2.0",
            "_model_name": "LayoutModel",
            "_view_count": null,
            "_view_module": "@jupyter-widgets/base",
            "_view_module_version": "1.2.0",
            "_view_name": "LayoutView",
            "align_content": null,
            "align_items": null,
            "align_self": null,
            "border": null,
            "bottom": null,
            "display": null,
            "flex": null,
            "flex_flow": null,
            "grid_area": null,
            "grid_auto_columns": null,
            "grid_auto_flow": null,
            "grid_auto_rows": null,
            "grid_column": null,
            "grid_gap": null,
            "grid_row": null,
            "grid_template_areas": null,
            "grid_template_columns": null,
            "grid_template_rows": null,
            "height": null,
            "justify_content": null,
            "justify_items": null,
            "left": null,
            "margin": null,
            "max_height": null,
            "max_width": null,
            "min_height": null,
            "min_width": null,
            "object_fit": null,
            "object_position": null,
            "order": null,
            "overflow": null,
            "overflow_x": null,
            "overflow_y": null,
            "padding": null,
            "right": null,
            "top": null,
            "visibility": null,
            "width": null
          }
        },
        "1f70586170dd458da8f4816d3ddd744b": {
          "model_module": "@jupyter-widgets/controls",
          "model_name": "DescriptionStyleModel",
          "model_module_version": "1.5.0",
          "state": {
            "_model_module": "@jupyter-widgets/controls",
            "_model_module_version": "1.5.0",
            "_model_name": "DescriptionStyleModel",
            "_view_count": null,
            "_view_module": "@jupyter-widgets/base",
            "_view_module_version": "1.2.0",
            "_view_name": "StyleView",
            "description_width": ""
          }
        },
        "864314b305874027b284ec5ee1ab736f": {
          "model_module": "@jupyter-widgets/controls",
          "model_name": "FloatTextModel",
          "model_module_version": "1.5.0",
          "state": {
            "_dom_classes": [],
            "_model_module": "@jupyter-widgets/controls",
            "_model_module_version": "1.5.0",
            "_model_name": "FloatTextModel",
            "_view_count": null,
            "_view_module": "@jupyter-widgets/controls",
            "_view_module_version": "1.5.0",
            "_view_name": "FloatTextView",
            "continuous_update": false,
            "description": "Kwota na rękę:",
            "description_tooltip": null,
            "disabled": false,
            "layout": "IPY_MODEL_11f595bb57c745f2b4e03f1412c568c8",
            "step": 10,
            "style": "IPY_MODEL_d031a9f35f294b0695f74882a2ffa0c9",
            "value": 6350
          }
        },
        "11f595bb57c745f2b4e03f1412c568c8": {
          "model_module": "@jupyter-widgets/base",
          "model_name": "LayoutModel",
          "model_module_version": "1.2.0",
          "state": {
            "_model_module": "@jupyter-widgets/base",
            "_model_module_version": "1.2.0",
            "_model_name": "LayoutModel",
            "_view_count": null,
            "_view_module": "@jupyter-widgets/base",
            "_view_module_version": "1.2.0",
            "_view_name": "LayoutView",
            "align_content": null,
            "align_items": null,
            "align_self": null,
            "border": null,
            "bottom": null,
            "display": null,
            "flex": null,
            "flex_flow": null,
            "grid_area": null,
            "grid_auto_columns": null,
            "grid_auto_flow": null,
            "grid_auto_rows": null,
            "grid_column": null,
            "grid_gap": null,
            "grid_row": null,
            "grid_template_areas": null,
            "grid_template_columns": null,
            "grid_template_rows": null,
            "height": null,
            "justify_content": null,
            "justify_items": null,
            "left": null,
            "margin": null,
            "max_height": null,
            "max_width": null,
            "min_height": null,
            "min_width": null,
            "object_fit": null,
            "object_position": null,
            "order": null,
            "overflow": null,
            "overflow_x": null,
            "overflow_y": null,
            "padding": null,
            "right": null,
            "top": null,
            "visibility": null,
            "width": null
          }
        },
        "d031a9f35f294b0695f74882a2ffa0c9": {
          "model_module": "@jupyter-widgets/controls",
          "model_name": "DescriptionStyleModel",
          "model_module_version": "1.5.0",
          "state": {
            "_model_module": "@jupyter-widgets/controls",
            "_model_module_version": "1.5.0",
            "_model_name": "DescriptionStyleModel",
            "_view_count": null,
            "_view_module": "@jupyter-widgets/base",
            "_view_module_version": "1.2.0",
            "_view_name": "StyleView",
            "description_width": ""
          }
        }
      }
    }
  },
  "cells": [
    {
      "cell_type": "markdown",
      "metadata": {
        "id": "view-in-github",
        "colab_type": "text"
      },
      "source": [
        "<a href=\"https://colab.research.google.com/github/f1th4p/kalkulator-python/blob/main/kalkulator_kwoty_na_fakturze.ipynb\" target=\"_parent\"><img src=\"https://colab.research.google.com/assets/colab-badge.svg\" alt=\"Open In Colab\"/></a>"
      ]
    },
    {
      "cell_type": "code",
      "execution_count": null,
      "metadata": {
        "id": "ty6E3P6tacAx"
      },
      "outputs": [],
      "source": [
        "# Automatyczna instalacja pakietów\n",
        "import sys\n",
        "import subprocess\n",
        "\n",
        "# Lista pakietów do zainstalowania\n",
        "packages = ['scipy', 'numpy']\n",
        "\n",
        "for package in packages:\n",
        "    subprocess.check_call([sys.executable, \"-m\", \"pip\", \"install\", package])\n",
        "\n",
        "# Potwierdzenie, że pakiety zostały zainstalowane\n",
        "print(\"Pakiety zostały zainstalowane.\")\n"
      ]
    },
    {
      "cell_type": "code",
      "source": [
        "from scipy.optimize import brentq\n",
        "import ipywidgets as widgets\n",
        "from IPython.display import display\n",
        "\n",
        "def calculate_net_old(P, C, ZUS, target_net=6350.00, tax_rate=0.12, tax_deduction=300, health_rate=0.09):\n",
        "    \"\"\"\n",
        "    Uproszczony model obliczeń (model z zeszłego roku):\n",
        "\n",
        "      Przychód: P\n",
        "      Koszty: C\n",
        "      Społeczne: ZUS\n",
        "\n",
        "      Dochód (podstawa) = P - C - ZUS\n",
        "      Podatek = 0.12 * (P - C - ZUS) - 300\n",
        "      Zdrowotna = 0.09 * (P - C - ZUS)\n",
        "      Na rękę = (P - C - ZUS) - Podatek - Zdrowotna\n",
        "\n",
        "    Funkcja zwraca różnicę między uzyskanym wynagrodzeniem netto a docelową kwotą (target_net).\n",
        "    \"\"\"\n",
        "    base = P - C - ZUS\n",
        "    tax = tax_rate * base - tax_deduction\n",
        "    health = health_rate * base\n",
        "    net = base - tax - health\n",
        "    return net - target_net\n",
        "\n",
        "# Parametry do wyboru:\n",
        "target_net_default = 6350.00  # Domyślna kwota \"na rękę\"\n",
        "C_example_default = 263.22    # Domyślne koszty\n",
        "P_min, P_max = 9000, 10000  # Zakres poszukiwań przychodu\n",
        "\n",
        "# Wybór ZUS\n",
        "ZUS_options = {\n",
        "    \"ZUS bez chorobowego\": 1646.47,\n",
        "    \"ZUS z chorobowym\": 1773.96,\n",
        "}\n",
        "\n",
        "# Funkcja obliczająca przychód w zależności od wyboru ZUS\n",
        "def calculate_income(ZUS_type, C_value, target_net_value):\n",
        "    ZUS_value = ZUS_options[ZUS_type]\n",
        "    P_solution = brentq(calculate_net_old, P_min, P_max, args=(C_value, ZUS_value, target_net_value))\n",
        "    output_text = f\"Rozwiązanie: Przychód = {P_solution:.2f} zł (ZUS: {ZUS_type}, Koszty: {C_value:.2f}, Kwota na rękę: {target_net_value:.2f})\"\n",
        "    print(output_text)\n",
        "\n",
        "# Widget wyboru ZUS\n",
        "ZUS_selector = widgets.Dropdown(\n",
        "    options=ZUS_options.keys(),\n",
        "    value=\"ZUS bez chorobowego\",\n",
        "    description='Wybierz ZUS:',\n",
        ")\n",
        "\n",
        "# Widget dla kosztów (z domyślną wartością)\n",
        "C_selector = widgets.FloatText(\n",
        "    value=C_example_default,\n",
        "    description='Koszty:',\n",
        "    step=1.0,\n",
        "    min=0,\n",
        "    max=5000\n",
        ")\n",
        "\n",
        "# Widget dla kwoty na rękę (z domyślną wartością)\n",
        "target_net_selector = widgets.FloatText(\n",
        "    value=target_net_default,\n",
        "    description='Kwota na rękę:',\n",
        "    step=10.0,\n",
        "    min=0,\n",
        "    max=20000\n",
        ")\n",
        "\n",
        "# Funkcja wywoływana przy każdej zmianie wartości w widżetach\n",
        "def on_change(change):\n",
        "    # Zaktualizowanie obliczeń przy każdej zmianie wartości\n",
        "    calculate_income(ZUS_selector.value, C_selector.value, target_net_selector.value)\n",
        "\n",
        "# Dodanie obserwatora dla każdego widżetu\n",
        "ZUS_selector.observe(on_change, names='value')\n",
        "C_selector.observe(on_change, names='value')\n",
        "target_net_selector.observe(on_change, names='value')\n",
        "\n",
        "# Wyświetlanie widżetów\n",
        "display(ZUS_selector, C_selector, target_net_selector)\n"
      ],
      "metadata": {
        "colab": {
          "base_uri": "https://localhost:8080/",
          "height": 161,
          "referenced_widgets": [
            "e3ffc85e0b4144f480288a236184ce11",
            "bb6d626dabc9463490857f883d72114a",
            "876b37a587f74d6691d40dd3e9751dbc",
            "4887f4ad3e8647f09c049051d10e0ae4",
            "bd536d59b3a74c4fbe8ce3ddfd3b307b",
            "1f70586170dd458da8f4816d3ddd744b",
            "864314b305874027b284ec5ee1ab736f",
            "11f595bb57c745f2b4e03f1412c568c8",
            "d031a9f35f294b0695f74882a2ffa0c9"
          ]
        },
        "id": "XL7JLg-Lap3n",
        "outputId": "badc43a6-2944-4082-a894-d09c843bd69c"
      },
      "execution_count": null,
      "outputs": [
        {
          "output_type": "display_data",
          "data": {
            "text/plain": [
              "Dropdown(description='Wybierz ZUS:', options=('ZUS bez chorobowego', 'ZUS z chorobowym'), value='ZUS bez choro…"
            ],
            "application/vnd.jupyter.widget-view+json": {
              "version_major": 2,
              "version_minor": 0,
              "model_id": "e3ffc85e0b4144f480288a236184ce11"
            }
          },
          "metadata": {}
        },
        {
          "output_type": "display_data",
          "data": {
            "text/plain": [
              "FloatText(value=263.22, description='Koszty:', step=1.0)"
            ],
            "application/vnd.jupyter.widget-view+json": {
              "version_major": 2,
              "version_minor": 0,
              "model_id": "4887f4ad3e8647f09c049051d10e0ae4"
            }
          },
          "metadata": {}
        },
        {
          "output_type": "display_data",
          "data": {
            "text/plain": [
              "FloatText(value=6350.0, description='Kwota na rękę:', step=10.0)"
            ],
            "application/vnd.jupyter.widget-view+json": {
              "version_major": 2,
              "version_minor": 0,
              "model_id": "864314b305874027b284ec5ee1ab736f"
            }
          },
          "metadata": {}
        },
        {
          "output_type": "stream",
          "name": "stdout",
          "text": [
            "Rozwiązanie: Przychód = 9695.41 zł (ZUS: ZUS z chorobowym, Koszty: 263.22, Kwota na rękę: 6350.00)\n",
            "Rozwiązanie: Przychód = 9567.92 zł (ZUS: ZUS bez chorobowego, Koszty: 263.22, Kwota na rękę: 6350.00)\n",
            "Rozwiązanie: Przychód = 9304.70 zł (ZUS: ZUS bez chorobowego, Koszty: 0.00, Kwota na rękę: 6350.00)\n"
          ]
        }
      ]
    }
  ]
}